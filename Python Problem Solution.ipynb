{
 "cells": [
  {
   "cell_type": "markdown",
   "id": "877599d3",
   "metadata": {},
   "source": [
    "1. Take values of the length & breadth of a rectangle from user input and check if it is square or not."
   ]
  },
  {
   "cell_type": "code",
   "execution_count": null,
   "id": "8e68a075",
   "metadata": {},
   "outputs": [],
   "source": [
    "length = float(input(\"Enter the lenght: \"))\n",
    "bredth = float(input(\"Enter the bredth: \"))\n",
    "\n",
    "if length == bredth:\n",
    "    print(\"It is an square\")\n",
    "else:\n",
    "    print(\"It is not an square\")"
   ]
  },
  {
   "cell_type": "markdown",
   "id": "457faf8c",
   "metadata": {},
   "source": [
    "2. Take three integer values from the user and print the greatest among them."
   ]
  },
  {
   "cell_type": "code",
   "execution_count": 8,
   "id": "d3b477a6",
   "metadata": {},
   "outputs": [
    {
     "name": "stdout",
     "output_type": "stream",
     "text": [
      "Enter first value: 12\n",
      "Enter second value: 23\n",
      "Enter third value: 34\n",
      "Your maxium inputted value is:  34\n"
     ]
    }
   ],
   "source": [
    "import math\n",
    "\n",
    "firstVal = int(input(\"Enter first value: \"))\n",
    "secondVal = int(input(\"Enter second value: \"))\n",
    "thirdVal = int(input(\"Enter third value: \"))\n",
    "\n",
    "myList = [firstVal,secondVal,thirdVal]\n",
    "print(\"Your greatest input value is: \",max(myList))\n"
   ]
  },
  {
   "cell_type": "markdown",
   "id": "9e1720ed",
   "metadata": {},
   "source": [
    "3. A student will not be allowed to sit in an exam if his/her attendance is less than 75%."
   ]
  },
  {
   "cell_type": "code",
   "execution_count": 19,
   "id": "9c5d55ff",
   "metadata": {},
   "outputs": [
    {
     "name": "stdout",
     "output_type": "stream",
     "text": [
      "Enter total no of class in days: 100\n",
      "Enter student's name: AA\n",
      "Enter student's attendance in days: 87\n",
      "Press 'x' to exitBB\n",
      "Enter student's name: 65\n",
      "Enter student's attendance in days: 65\n",
      "Press 'x' to exitf\n",
      "Enter student's name: CC\n",
      "Enter student's attendance in days: 89\n",
      "Press 'x' to exitx\n",
      "Total no of class days:  100\n",
      "{'studentName': 'CC', 'attendance': 89}\n",
      "Attendance percentage:  87.0\n",
      "AA is allowed to sit in an exam.\n",
      "Attendance percentage:  65.0\n",
      "65 is not allowed to sit in an exam.\n",
      "Attendance percentage:  89.0\n",
      "CC is allowed to sit in an exam.\n"
     ]
    }
   ],
   "source": [
    "totalNoOfClassIn = int(input(\"Enter total no of class in days: \"))\n",
    "\n",
    "listAllData = []\n",
    "\n",
    "while(True):\n",
    "    studentAttendanceData = {}\n",
    "    studentAttendanceData[\"studentName\"] = input(\"Enter student's name: \")\n",
    "    studentAttendanceData[\"attendance\"] = int(input(\"Enter student's attendance in days: \"))\n",
    "    listAllData.append(studentAttendanceData)\n",
    "    if(input(\"Press 'x' to exit\") == 'x'):\n",
    "        break\n",
    "\n",
    "print(\"Total no of class days: \",totalNoOfClassIn)\n",
    "print(listAllData)\n",
    "\n",
    "for stdData in listAllData:\n",
    "    attnPercent = (stdData[\"attendance\"] / totalNoOfClassIn) * 100\n",
    "    print(\"Attendance percentage: \",attnPercent)\n",
    "    \n",
    "    if(attnPercent < 75.0):\n",
    "        print(stdData[\"studentName\"] + \" is not allowed to sit in an exam.\")\n",
    "    else:\n",
    "        print(stdData[\"studentName\"] + \" is allowed to sit in an exam.\")\n"
   ]
  },
  {
   "cell_type": "markdown",
   "id": "fc815b72",
   "metadata": {},
   "source": [
    "4. A school has the following rules for the grading system: Below 25 – F, 25 to 44 – E, 45 to 49 – D, 50 to 59 – C, 60 to 79 – B, 80 to 89 - A, Above 90 - A+ Now, Ask the user to enter marks and print the corresponding grade."
   ]
  },
  {
   "cell_type": "code",
   "execution_count": 20,
   "id": "b0b7254f",
   "metadata": {},
   "outputs": [
    {
     "name": "stdout",
     "output_type": "stream",
     "text": [
      "Enter your marks: 65\n",
      "Your grade is B\n"
     ]
    }
   ],
   "source": [
    "marks = int(input(\"Enter your marks: \"))\n",
    "\n",
    "if marks < 25:\n",
    "    print(\"Your grade is F\")\n",
    "elif marks >= 25 and marks <= 44:\n",
    "    print(\"Your grade is E\")\n",
    "elif marks >= 45 and marks <= 49:\n",
    "    print(\"Your grade is D\")\n",
    "elif marks >= 50 and marks <= 59:\n",
    "    print(\"Your grade is C\")\n",
    "elif marks >= 60 and marks <= 79:\n",
    "    print(\"Your grade is B\")\n",
    "elif marks >= 80 and marks <= 89:\n",
    "    print(\"Your grade is A\")\n",
    "else:\n",
    "    print(\"Your grade is A+\")\n"
   ]
  },
  {
   "cell_type": "markdown",
   "id": "965c5a21",
   "metadata": {},
   "source": [
    "Loop Problem:\n",
    "5. Print the following pattern using for and while loop.\n",
    "1 2 3 4 5 6 7\n",
    "1 2 3 4 5 6\n",
    "1 2 3 4 5\n",
    "1 2 3 4"
   ]
  },
  {
   "cell_type": "code",
   "execution_count": 31,
   "id": "02dd8e84",
   "metadata": {},
   "outputs": [
    {
     "name": "stdout",
     "output_type": "stream",
     "text": [
      "1 2 3 4 5 6 7 \n",
      "1 2 3 4 5 6 \n",
      "1 2 3 4 5 \n",
      "1 2 3 4 \n"
     ]
    }
   ],
   "source": [
    "#Using for loop\n",
    "for i in range(8, 4, -1):\n",
    "    for j in range(1, i):\n",
    "        print(j, end=' ')\n",
    "    print()"
   ]
  },
  {
   "cell_type": "markdown",
   "id": "0bce4788",
   "metadata": {},
   "source": [
    "6. Display numbers from -100 to -10 using for loop."
   ]
  },
  {
   "cell_type": "code",
   "execution_count": 38,
   "id": "50a61522",
   "metadata": {},
   "outputs": [
    {
     "name": "stdout",
     "output_type": "stream",
     "text": [
      "-100 -99 -98 -97 -96 -95 -94 -93 -92 -91 -90 -89 -88 -87 -86 -85 -84 -83 -82 -81 -80 -79 -78 -77 -76 -75 -74 -73 -72 -71 -70 -69 -68 -67 -66 -65 -64 -63 -62 -61 -60 -59 -58 -57 -56 -55 -54 -53 -52 -51 -50 -49 -48 -47 -46 -45 -44 -43 -42 -41 -40 -39 -38 -37 -36 -35 -34 -33 -32 -31 -30 -29 -28 -27 -26 -25 -24 -23 -22 -21 -20 -19 -18 -17 -16 -15 -14 -13 -12 -11 -10 "
     ]
    }
   ],
   "source": [
    "for i in range(-100, -9, 1):\n",
    "        print(i, end=' ')"
   ]
  },
  {
   "cell_type": "markdown",
   "id": "6e4e2399",
   "metadata": {},
   "source": [
    "7. Write a program to sum all prime numbers within a range of 10 to 1000."
   ]
  },
  {
   "cell_type": "code",
   "execution_count": 5,
   "id": "ab97646f",
   "metadata": {},
   "outputs": [
    {
     "name": "stdout",
     "output_type": "stream",
     "text": [
      "Sum of prime number is:  76110\n"
     ]
    }
   ],
   "source": [
    "def isPrime(n):\n",
    "    if n < 2:\n",
    "        return False\n",
    "\n",
    "    for i in range(2, n):\n",
    "        if n % i == 0:\n",
    "            return False\n",
    "\n",
    "    return True\n",
    "\n",
    "listPrimeNumer=[]\n",
    "sumOfPrimeNum = 0\n",
    "for i in range(10,1000,1):\n",
    "    if(isPrime(i) == True):\n",
    "        listPrimeNumer.append(i)\n",
    "        sumOfPrimeNum = sumOfPrimeNum + i\n",
    "\n",
    "# print(\"Prime number list: \",listPrimeNumer)        \n",
    "print(\"Sum of prime number is: \",sumOfPrimeNum)"
   ]
  },
  {
   "cell_type": "markdown",
   "id": "967158dd",
   "metadata": {},
   "source": [
    "8. Find the factorial of an n! (Hint, n=7: 7*6*5*4*3*2*1)."
   ]
  },
  {
   "cell_type": "code",
   "execution_count": 11,
   "id": "a13ad3cc",
   "metadata": {},
   "outputs": [
    {
     "name": "stdout",
     "output_type": "stream",
     "text": [
      "Enter number for factorial15\n",
      "15\n",
      "14\n",
      "13\n",
      "12\n",
      "11\n",
      "10\n",
      "9\n",
      "8\n",
      "7\n",
      "6\n",
      "5\n",
      "4\n",
      "3\n",
      "2\n",
      "1\n",
      "Factorial of an !n is:  1307674368000\n"
     ]
    }
   ],
   "source": [
    "factorialN = int(input(\"Enter number for factorial\"))\n",
    "\n",
    "valueFactorialN = 1\n",
    "for n in range(factorialN,0,-1):\n",
    "    valueFactorialN = valueFactorialN * n\n",
    "    print(n)\n",
    "    \n",
    "print(\"Factorial of an !n is: \",valueFactorialN)"
   ]
  },
  {
   "cell_type": "markdown",
   "id": "01ce7010",
   "metadata": {},
   "source": [
    "9. Reverse a given integer number 27956240710."
   ]
  },
  {
   "cell_type": "code",
   "execution_count": 21,
   "id": "1ef765c0",
   "metadata": {},
   "outputs": [
    {
     "name": "stdout",
     "output_type": "stream",
     "text": [
      "01704265972\n"
     ]
    }
   ],
   "source": [
    "intNumber = 27956240710\n",
    "numStr = str(intNumber)\n",
    "\n",
    "revStr = numStr[::-1]\n",
    "print(revStr)"
   ]
  },
  {
   "cell_type": "markdown",
   "id": "4ec5dbca",
   "metadata": {},
   "source": [
    "10. Print the following pattern using for and while loop.\n",
    "# # #\n",
    "# # # #\n",
    "# # #\n",
    "# #"
   ]
  },
  {
   "cell_type": "code",
   "execution_count": 25,
   "id": "c65d51c0",
   "metadata": {},
   "outputs": [
    {
     "name": "stdout",
     "output_type": "stream",
     "text": [
      "# # # \n",
      "# # # # \n",
      "# # # \n",
      "# # \n",
      "-------------------------\n",
      "# # # \n",
      "# # # # \n",
      "# # # \n",
      "# # "
     ]
    }
   ],
   "source": [
    "#One way\n",
    "counter = 4\n",
    "listPat = [3,4,3,2]\n",
    "i=0\n",
    "\n",
    "while(i < counter):\n",
    "    for n in range(listPat[i]):\n",
    "        print(\"#\",end =\" \")\n",
    "    print() \n",
    "    i+=1\n",
    "\n",
    "print(\"-------------------------\")\n",
    "#Another way\n",
    "i=0\n",
    "counter = 12\n",
    "while(i < counter):\n",
    "    print(\"#\",end =\" \")\n",
    "    if(i == 2 or i == 6 or i == 9):\n",
    "        print()\n",
    "    i+=1"
   ]
  },
  {
   "cell_type": "markdown",
   "id": "2e1095df",
   "metadata": {},
   "source": [
    "11. Display the Fibonacci series of 15 elements using the for and while loop."
   ]
  },
  {
   "cell_type": "code",
   "execution_count": 29,
   "id": "e4301839",
   "metadata": {},
   "outputs": [
    {
     "name": "stdout",
     "output_type": "stream",
     "text": [
      "----------Using For Loop-------------\n",
      "0\n",
      "1\n",
      "1\n",
      "2\n",
      "3\n",
      "5\n",
      "8\n",
      "13\n",
      "21\n",
      "34\n",
      "55\n",
      "89\n",
      "144\n",
      "233\n",
      "377\n",
      "----------Using While Loop-------------\n",
      "0\n",
      "1\n",
      "1\n",
      "2\n",
      "3\n",
      "5\n",
      "8\n",
      "13\n",
      "21\n",
      "34\n",
      "55\n",
      "89\n",
      "144\n",
      "233\n",
      "377\n"
     ]
    }
   ],
   "source": [
    "print(\"----------Using For Loop-------------\")  \n",
    "a, b = 0, 1\n",
    "\n",
    "for i in range(15):\n",
    "    print(a)\n",
    "    a, b = b, a + b\n",
    "    \n",
    "print(\"----------Using While Loop-------------\")    \n",
    "a, b = 0, 1\n",
    "i=0\n",
    "while(i < 15):\n",
    "    print(a)\n",
    "    a, b = b, a + b\n",
    "    \n",
    "    i+=1"
   ]
  },
  {
   "cell_type": "markdown",
   "id": "8499774e",
   "metadata": {},
   "source": [
    "12. Remove 2 and add 3 to the list and replace True with False.\n",
    "Li = [1,3,5, [2,3], True]\n",
    "Output = [1,3,5, [3,3], False]"
   ]
  },
  {
   "cell_type": "code",
   "execution_count": 30,
   "id": "a895b5b0",
   "metadata": {},
   "outputs": [
    {
     "name": "stdout",
     "output_type": "stream",
     "text": [
      "[1, 3, 5, [2, 3], True]\n",
      "[1, 3, 5, [3, 3], False]\n"
     ]
    }
   ],
   "source": [
    "Li = [1,3,5, [2,3], True]\n",
    "print(Li)\n",
    "\n",
    "Li[3][0] = 3\n",
    "Li[4] = False\n",
    "print(Li)"
   ]
  },
  {
   "cell_type": "markdown",
   "id": "86a8586a",
   "metadata": {},
   "source": [
    "13. Find the intersection (common) of two sets.\n",
    "S1 = {1,4,6,8}\n",
    "S2 = {True, 1,2,10}"
   ]
  },
  {
   "cell_type": "code",
   "execution_count": 42,
   "id": "b9695947",
   "metadata": {},
   "outputs": [
    {
     "name": "stdout",
     "output_type": "stream",
     "text": [
      "{1, 4}\n"
     ]
    }
   ],
   "source": [
    "\n",
    "S1 = {1,4,6,8} \n",
    "S2 = {1,2,10,4}\n",
    "\n",
    "S3 = S1.intersection(S2)\n",
    "print(S3)"
   ]
  },
  {
   "cell_type": "markdown",
   "id": "4a4b6ade",
   "metadata": {},
   "source": [
    "14. Input a list from the user then Remove duplicates from a list and create a set and find the max\n",
    "number. User_input = [1,9,3,4,5,200,54]"
   ]
  },
  {
   "cell_type": "code",
   "execution_count": 54,
   "id": "8dc85ea2",
   "metadata": {},
   "outputs": [
    {
     "data": {
      "text/plain": [
       "{1, 3, 4, 5, 9, 54, 200}"
      ]
     },
     "execution_count": 54,
     "metadata": {},
     "output_type": "execute_result"
    }
   ],
   "source": [
    "user_input = [1,9,3,4,5,200,54,4,9]\n",
    "mySet = set(user_input)\n",
    "mySet"
   ]
  },
  {
   "cell_type": "markdown",
   "id": "45630dfd",
   "metadata": {},
   "source": [
    "15. Rename the key of a dictionary.\n",
    "Dict = { \"name\": \"Shakil\", \"age\":27, \"city\": “Berlin”, \"country\": \"Germany\" }\n",
    "Write a program to rename a key ‘country’ to a ‘region’ in the following dictionary."
   ]
  },
  {
   "cell_type": "code",
   "execution_count": 49,
   "id": "6cf7b7a3",
   "metadata": {},
   "outputs": [
    {
     "data": {
      "text/plain": [
       "{'name': 'Shakil', 'age': 27, 'city': 'Berlin', 'region': 'Germany'}"
      ]
     },
     "execution_count": 49,
     "metadata": {},
     "output_type": "execute_result"
    }
   ],
   "source": [
    "def change_dict_key(d, old_key, new_key, default_value=None):\n",
    "    d[new_key] = d.pop(old_key, default_value)\n",
    "\n",
    "myDict = { \"name\": \"Shakil\", \"age\":27, \"city\": \"Berlin\", \"country\": \"Germany\" }\n",
    "\n",
    "change_dict_key(myDict,\"country\",\"region\")\n",
    "myDict"
   ]
  },
  {
   "cell_type": "markdown",
   "id": "247ee8aa",
   "metadata": {},
   "source": [
    "16. Creating a data frame using the list.\n",
    "num = [10,100,300] (column name is number)"
   ]
  },
  {
   "cell_type": "code",
   "execution_count": 48,
   "id": "36c71cb1",
   "metadata": {},
   "outputs": [
    {
     "data": {
      "text/html": [
       "<div>\n",
       "<style scoped>\n",
       "    .dataframe tbody tr th:only-of-type {\n",
       "        vertical-align: middle;\n",
       "    }\n",
       "\n",
       "    .dataframe tbody tr th {\n",
       "        vertical-align: top;\n",
       "    }\n",
       "\n",
       "    .dataframe thead th {\n",
       "        text-align: right;\n",
       "    }\n",
       "</style>\n",
       "<table border=\"1\" class=\"dataframe\">\n",
       "  <thead>\n",
       "    <tr style=\"text-align: right;\">\n",
       "      <th></th>\n",
       "      <th>Number</th>\n",
       "    </tr>\n",
       "  </thead>\n",
       "  <tbody>\n",
       "    <tr>\n",
       "      <th>0</th>\n",
       "      <td>10</td>\n",
       "    </tr>\n",
       "    <tr>\n",
       "      <th>1</th>\n",
       "      <td>100</td>\n",
       "    </tr>\n",
       "    <tr>\n",
       "      <th>2</th>\n",
       "      <td>300</td>\n",
       "    </tr>\n",
       "  </tbody>\n",
       "</table>\n",
       "</div>"
      ],
      "text/plain": [
       "   Number\n",
       "0      10\n",
       "1     100\n",
       "2     300"
      ]
     },
     "execution_count": 48,
     "metadata": {},
     "output_type": "execute_result"
    }
   ],
   "source": [
    "import pandas as pd\n",
    "\n",
    "df = pd.DataFrame([10,100,300],columns=[\"Number\"])\n",
    "df"
   ]
  },
  {
   "cell_type": "markdown",
   "id": "6eb715e4",
   "metadata": {},
   "source": [
    "17. Change the value of a key in a given dictionary.\n",
    "Write a Python program to change ‘age’ to 28 in the following dictionary.\n",
    "Dict = { \"name\": \"Shakil\", \"age\":27, \"city\": “Berlin”, \"country\": \"Germany\" }"
   ]
  },
  {
   "cell_type": "code",
   "execution_count": 55,
   "id": "e8b0a07d",
   "metadata": {},
   "outputs": [
    {
     "data": {
      "text/plain": [
       "{'name': 'Shakil', 'age': 28, 'city': 'Berlin', 'country': 'Germany'}"
      ]
     },
     "execution_count": 55,
     "metadata": {},
     "output_type": "execute_result"
    }
   ],
   "source": [
    "myDict = { \"name\": \"Shakil\", \"age\":27, \"city\": \"Berlin\", \"country\": \"Germany\" }\n",
    "myDict[\"age\"] = 28\n",
    "myDict"
   ]
  },
  {
   "cell_type": "code",
   "execution_count": null,
   "id": "e2b4d09d",
   "metadata": {},
   "outputs": [],
   "source": []
  }
 ],
 "metadata": {
  "kernelspec": {
   "display_name": "Python 3 (ipykernel)",
   "language": "python",
   "name": "python3"
  },
  "language_info": {
   "codemirror_mode": {
    "name": "ipython",
    "version": 3
   },
   "file_extension": ".py",
   "mimetype": "text/x-python",
   "name": "python",
   "nbconvert_exporter": "python",
   "pygments_lexer": "ipython3",
   "version": "3.9.13"
  }
 },
 "nbformat": 4,
 "nbformat_minor": 5
}
